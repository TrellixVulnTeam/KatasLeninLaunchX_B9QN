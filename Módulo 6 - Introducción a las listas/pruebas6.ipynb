{
 "cells": [
  {
   "cell_type": "code",
   "execution_count": 19,
   "metadata": {},
   "outputs": [
    {
     "name": "stdout",
     "output_type": "stream",
     "text": [
      "The first planet is Mercury\n",
      "The second planet is Venus\n",
      "The third planet is Earth\n",
      "The last planet is Mercury\n",
      "The last planet is Neptune\n",
      "Mars is also known as Red planet\n"
     ]
    }
   ],
   "source": [
    "#Crear una lista\n",
    "planets = ['Mercury', 'Venus', 'Earth', 'Mars', 'Jupiter', 'Saturn', 'Uranus', 'Neptune']\n",
    "\n",
    "#Acceder a los elementos de una lista\n",
    "print('The first planet is', planets[0])\n",
    "print('The second planet is', planets[1])\n",
    "print('The third planet is', planets[2])\n",
    "\n",
    "#índices negativos\n",
    "print('The last planet is', planets[-8])\n",
    "print('The last planet is', planets[-1])\n",
    "\n",
    "#Modificar los valores de una lista mediante el índice\n",
    "planets[3] = 'Red planet'\n",
    "print('Mars is also known as', planets[3])\n",
    "\n",
    "\n"
   ]
  },
  {
   "cell_type": "code",
   "execution_count": 9,
   "metadata": {},
   "outputs": [
    {
     "name": "stdout",
     "output_type": "stream",
     "text": [
      "There are 8 planets in the solar system.\n"
     ]
    }
   ],
   "source": [
    "#Determinar la longitudad de una lista\n",
    "\n",
    "numberOfPlanets = len(planets)\n",
    "print('There are', numberOfPlanets, 'planets in the solar system.')"
   ]
  },
  {
   "cell_type": "code",
   "execution_count": 18,
   "metadata": {},
   "outputs": [
    {
     "name": "stdout",
     "output_type": "stream",
     "text": [
      "['Mercury', 'Venus', 'Earth', 'Red planet', 'Jupiter', 'Saturn', 'Uranus', 'Uranus', 'Pluto'] There are actually 9 planets in the solar system.\n",
      "['Mercury', 'Venus', 'Earth', 'Red planet', 'Jupiter', 'Saturn', 'Uranus', 'Uranus'] There are actually 8 planets in the solar system.\n"
     ]
    }
   ],
   "source": [
    "#Agregar valores a la lista >> .append(value)\n",
    "planets.append('Pluto')\n",
    "numberOfPlanets = len(planets)\n",
    "print(planets, 'There are actually', numberOfPlanets, 'planets in the solar system.')\n",
    "\n",
    "#Eliminar valores de una lista >> .pop() >> Elimina el último valor de la lista\n",
    "planets.pop() #Goodbye, Pluto\n",
    "numberOfPlanets = len(planets)\n",
    "print(planets, 'There are actually', numberOfPlanets, 'planets in the solar system.')\n",
    "\n"
   ]
  },
  {
   "cell_type": "code",
   "execution_count": 22,
   "metadata": {},
   "outputs": [
    {
     "name": "stdout",
     "output_type": "stream",
     "text": [
      "4\n",
      "Jupiter is the 5 planet from the sun\n"
     ]
    }
   ],
   "source": [
    "#Buscae un valor en una lista\n",
    "jupiterIndex = planets.index('Jupiter')\n",
    "print(jupiterIndex)\n",
    "print('Jupiter is the', jupiterIndex + 1, 'planet from the sun')"
   ]
  },
  {
   "cell_type": "code",
   "execution_count": 24,
   "metadata": {},
   "outputs": [
    {
     "name": "stdout",
     "output_type": "stream",
     "text": [
      "0.378\n",
      "0.907\n"
     ]
    }
   ],
   "source": [
    "#Almacenar números en listas\n",
    "gravityOnEarth = 1.0\n",
    "gravityOnTheMoon = 0.166\n",
    "gravityOnPlanets = [0.378, 0.907, 1, 0.379, 2.36, 0.916, 0.889, 1.12]"
   ]
  },
  {
   "cell_type": "code",
   "execution_count": 26,
   "metadata": {},
   "outputs": [
    {
     "name": "stdout",
     "output_type": "stream",
     "text": [
      "On Earth, a double-decker bus weighs 12650 kg\n",
      "The lightest a bus would be in the solar system is 4781.7 kg\n",
      "The heaviest a bus would be in the solar system is 29854.0 kg\n"
     ]
    }
   ],
   "source": [
    "busWeight = 12650 #in kilograms, on Earth\n",
    "\n",
    "print('On Earth, a double-decker bus weighs', busWeight, 'kg' )\n",
    "print('The lightest a bus would be in the solar system is', busWeight * min(gravityOnPlanets), 'kg' )\n",
    "print('The heaviest a bus would be in the solar system is', busWeight * max(gravityOnPlanets), 'kg' )\n"
   ]
  },
  {
   "cell_type": "code",
   "execution_count": 41,
   "metadata": {},
   "outputs": [
    {
     "name": "stdout",
     "output_type": "stream",
     "text": [
      "['Mercury', 'Venus']\n",
      "['Mars', 'Jupiter', 'Saturn', 'Uranus', 'Neptune']\n",
      "['Mercury', 'Venus', 'Earth', 'Mars', 'Jupiter', 'Saturn', 'Uranus', 'Neptune']\n"
     ]
    }
   ],
   "source": [
    "#Manipular datos de lista\n",
    "#slice >> crea una nueva lista. No modifica la lista actual \n",
    "planets = ['Mercury', 'Venus', 'Earth', 'Mars', 'Jupiter', 'Saturn', 'Uranus', 'Neptune']\n",
    "planetsBeforeEarth = planets[0:2]\n",
    "#planetsAfterEarth = planets[3:8]\n",
    "planetsAfterEarth = planets[3:]\n",
    "\n",
    "print(planets)\n",
    "print(planetsBeforeEarth)\n",
    "print(planetsAfterEarth)"
   ]
  },
  {
   "cell_type": "code",
   "execution_count": 42,
   "metadata": {},
   "outputs": [
    {
     "name": "stdout",
     "output_type": "stream",
     "text": [
      "The regular satellite moons of Jupiter are ['Metis', 'Adrastea', 'Amalthea', 'Thebe', 'Io', 'Europa', 'Ganymede', 'Callisto']\n"
     ]
    }
   ],
   "source": [
    "#Uniendo listas\n",
    "amaltheaGroup = ['Metis', 'Adrastea', 'Amalthea', 'Thebe']\n",
    "galileanMoons = ['Io', 'Europa', 'Ganymede', 'Callisto']\n",
    "\n",
    "regularSatelliteMoons = amaltheaGroup + galileanMoons\n",
    "print('The regular satellite moons of Jupiter are', regularSatelliteMoons)\n"
   ]
  },
  {
   "cell_type": "code",
   "execution_count": 44,
   "metadata": {},
   "outputs": [
    {
     "name": "stdout",
     "output_type": "stream",
     "text": [
      "The regular satellite moons of Jupiter are ['Adrastea', 'Amalthea', 'Callisto', 'Europa', 'Ganymede', 'Io', 'Metis', 'Thebe']\n",
      "The regular satellite moons of Jupiter are ['Thebe', 'Metis', 'Io', 'Ganymede', 'Europa', 'Callisto', 'Amalthea', 'Adrastea']\n"
     ]
    }
   ],
   "source": [
    "#Ordenar listas >> sort()\n",
    "#Ordenar lista\n",
    "regularSatelliteMoons.sort()\n",
    "print('The regular satellite moons of Jupiter are', regularSatelliteMoons)\n",
    "\n",
    "#Ordenar lista en forma inversa >> .sort(reverse=True)\n",
    "regularSatelliteMoons.sort(reverse=True)\n",
    "print('The regular satellite moons of Jupiter are', regularSatelliteMoons)\n"
   ]
  },
  {
   "cell_type": "code",
   "execution_count": null,
   "metadata": {},
   "outputs": [],
   "source": []
  }
 ],
 "metadata": {
  "interpreter": {
   "hash": "3c4b90434ee65553cfaadd5152885f5f9133f1a3ef69fb3c2a408236db5fe03f"
  },
  "kernelspec": {
   "display_name": "Python 3.9.10 ('env': venv)",
   "language": "python",
   "name": "python3"
  },
  "language_info": {
   "codemirror_mode": {
    "name": "ipython",
    "version": 3
   },
   "file_extension": ".py",
   "mimetype": "text/x-python",
   "name": "python",
   "nbconvert_exporter": "python",
   "pygments_lexer": "ipython3",
   "version": "3.9.10"
  },
  "orig_nbformat": 4
 },
 "nbformat": 4,
 "nbformat_minor": 2
}
