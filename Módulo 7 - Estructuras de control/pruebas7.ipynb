{
 "cells": [
  {
   "cell_type": "code",
   "execution_count": 1,
   "metadata": {},
   "outputs": [],
   "source": [
    "#Ciclo while\n",
    "userInput = ''\n",
    "while userInput.lower() != 'done':\n",
    "    userInput = input(\"Enter a new value, or done when done\")"
   ]
  },
  {
   "cell_type": "code",
   "execution_count": 6,
   "metadata": {},
   "outputs": [
    {
     "name": "stdout",
     "output_type": "stream",
     "text": [
      "[]\n",
      "['hi']\n",
      "['hi', 'hello']\n"
     ]
    }
   ],
   "source": [
    "#Variable que almacena el texto \n",
    "userInput = ''\n",
    "\n",
    "#Lista que almacena cada texto que escriba el usuario\n",
    "inputs = []\n",
    "\n",
    "#Inicio del ciclo while\n",
    "while userInput.lower() != 'done':\n",
    "    #Verificamos si hay un valor en user_input\n",
    "    if userInput:\n",
    "        #Almacenamos ese valor en la lista\n",
    "        inputs.append(userInput)\n",
    "    \n",
    "    #Capturamos un nuevo valor\n",
    "    userInput = input('Enter a new value, or done when done')\n",
    "    print(inputs)"
   ]
  },
  {
   "cell_type": "code",
   "execution_count": 7,
   "metadata": {},
   "outputs": [
    {
     "name": "stdout",
     "output_type": "stream",
     "text": [
      "4\n",
      "3\n",
      "2\n",
      "1\n",
      "0\n",
      "Blast off !!\n"
     ]
    }
   ],
   "source": [
    "#Ciclo for \n",
    "countdown = [4, 3, 2, 1, 0]\n",
    "for number in countdown:\n",
    "    print(number)\n",
    "print(\"Blast off !!\")\n",
    "\n"
   ]
  },
  {
   "cell_type": "code",
   "execution_count": 8,
   "metadata": {},
   "outputs": [
    {
     "name": "stdout",
     "output_type": "stream",
     "text": [
      "5\n",
      "4\n",
      "3\n",
      "2\n",
      "1\n",
      "0\n",
      "Blast off !!\n"
     ]
    }
   ],
   "source": [
    "#importamos la biblioteca time\n",
    "from time import sleep\n",
    "\n",
    "#Lista de números\n",
    "countdown = [5, 4, 3, 2, 1, 0]\n",
    "\n",
    "#ciclo for\n",
    "for number in countdown:\n",
    "    #Imprime el número\n",
    "    print(number)\n",
    "    \n",
    "    #Espera un segundo\n",
    "    sleep(1)\n",
    "    \n",
    "print(\"Blast off !!\")\n",
    "\n",
    "    "
   ]
  },
  {
   "cell_type": "code",
   "execution_count": null,
   "metadata": {},
   "outputs": [],
   "source": []
  }
 ],
 "metadata": {
  "interpreter": {
   "hash": "3c4b90434ee65553cfaadd5152885f5f9133f1a3ef69fb3c2a408236db5fe03f"
  },
  "kernelspec": {
   "display_name": "Python 3.9.10 ('env': venv)",
   "language": "python",
   "name": "python3"
  },
  "language_info": {
   "codemirror_mode": {
    "name": "ipython",
    "version": 3
   },
   "file_extension": ".py",
   "mimetype": "text/x-python",
   "name": "python",
   "nbconvert_exporter": "python",
   "pygments_lexer": "ipython3",
   "version": "3.9.10"
  },
  "orig_nbformat": 4
 },
 "nbformat": 4,
 "nbformat_minor": 2
}
