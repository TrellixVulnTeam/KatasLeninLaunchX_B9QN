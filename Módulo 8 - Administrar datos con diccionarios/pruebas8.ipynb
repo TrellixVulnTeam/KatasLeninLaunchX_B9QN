{
 "cells": [
  {
   "cell_type": "code",
   "execution_count": 8,
   "metadata": {},
   "outputs": [
    {
     "name": "stdout",
     "output_type": "stream",
     "text": [
      "Earth\n",
      "Earth\n",
      "None\n"
     ]
    }
   ],
   "source": [
    "#Diccionarios\n",
    "planet = {\n",
    "    'name': 'Earth',\n",
    "    'moons': 1\n",
    "}\n",
    "\n",
    "#Accediendo a la propiedad name con --> get\n",
    "print(planet.get('name'))\n",
    "\n",
    "#Accediendo a la propiedad name con --> []\n",
    "print(planet['name'])\n",
    "\n",
    "#Si una clave(propiedad) no está definida; get devuelve None y [] genera un Keyerror\n",
    "\n",
    "wibble = planet.get('wibble') #Devuelve None\n",
    "print(wibble)\n",
    "\n",
    "wibble = planet['wibble'] #Arroja un Keyerror\n",
    "print(wibble)"
   ]
  },
  {
   "cell_type": "code",
   "execution_count": 11,
   "metadata": {},
   "outputs": [
    {
     "name": "stdout",
     "output_type": "stream",
     "text": [
      "Makemake\n",
      "Makemake\n"
     ]
    }
   ],
   "source": [
    "#Modificar valores de un objeto con --> update \n",
    "planet.update({'name': 'Makemake'})\n",
    "print(planet['name'])\n",
    "\n",
    "#Modificar valores de un objeto con --> []\n",
    "planet['name'] = 'Makemake'\n",
    "print(planet['name'])"
   ]
  },
  {
   "cell_type": "code",
   "execution_count": 18,
   "metadata": {},
   "outputs": [
    {
     "name": "stdout",
     "output_type": "stream",
     "text": [
      "Jupiter\n",
      "79\n",
      "Jupiter\n",
      "79\n"
     ]
    }
   ],
   "source": [
    "#Modificar varios valores con --> update\n",
    "planet.update({\n",
    "    'name': 'Jupiter',\n",
    "    'moons': 79\n",
    "})\n",
    "print(planet['name'])\n",
    "print(planet['moons'])\n",
    "\n",
    "#Modificar varios valores con --> []\n",
    "planet['name'] = 'Jupiter'\n",
    "planet['moons'] = 79\n",
    "print(planet['name'])\n",
    "print(planet['moons'])"
   ]
  },
  {
   "cell_type": "code",
   "execution_count": 29,
   "metadata": {},
   "outputs": [
    {
     "name": "stdout",
     "output_type": "stream",
     "text": [
      "{'name': 'Jupiter', 'moons': 79, 'orbital period': 4333}\n",
      "{'name': 'Jupiter', 'moons': 79}\n"
     ]
    }
   ],
   "source": [
    "#Adición propiedades\n",
    "planet['orbital period'] = 4333\n",
    "print(planet)\n",
    "\n",
    "#Eliminar propiedades\n",
    "planet.pop('orbital period')\n",
    "print(planet)\n"
   ]
  },
  {
   "cell_type": "code",
   "execution_count": 31,
   "metadata": {},
   "outputs": [
    {
     "name": "stdout",
     "output_type": "stream",
     "text": [
      "Jupiter polar diameter: 133709\n"
     ]
    }
   ],
   "source": [
    "#Un diccionario dentro de otro diccionario \n",
    "planet['diameter (km)'] = {\n",
    "    'polar': 133709,\n",
    "    'equatorial': 142984\n",
    "}\n",
    "\n",
    "print(f\"{planet['name']} polar diameter: {planet['diameter (km)']['polar']}\")"
   ]
  },
  {
   "cell_type": "code",
   "execution_count": 41,
   "metadata": {},
   "outputs": [
    {
     "name": "stdout",
     "output_type": "stream",
     "text": [
      "october: 3.5cm\n",
      "november: 4.2cm\n",
      "december: 2.1cm\n"
     ]
    }
   ],
   "source": [
    "rainfall = {\n",
    "    'october': 3.5,\n",
    "    'november': 4.2,\n",
    "    'december': 2.1\n",
    "}\n",
    "\n",
    "#imprimir todas la claves de rainfall con --> keys()\n",
    "for key in rainfall.keys():\n",
    "    print(f\"{key}: {rainfall[key]}cm\")"
   ]
  },
  {
   "cell_type": "code",
   "execution_count": 42,
   "metadata": {},
   "outputs": [
    {
     "name": "stdout",
     "output_type": "stream",
     "text": [
      "3.1\n"
     ]
    }
   ],
   "source": [
    "#Sobre escribir un diccionario o crear uno si no existe\n",
    "if 'december' in rainfall:\n",
    "    rainfall['december'] = rainfall['december'] + 1\n",
    "else: \n",
    "    rainfall['december'] = 1\n",
    "\n",
    "print(rainfall['december'])"
   ]
  },
  {
   "cell_type": "code",
   "execution_count": 43,
   "metadata": {},
   "outputs": [
    {
     "name": "stdout",
     "output_type": "stream",
     "text": [
      "There was 10.8cm in the last quarter\n"
     ]
    }
   ],
   "source": [
    "#Recuperar todos los valores de un diccionario con --> values()\n",
    "totalRainfall = 0\n",
    "\n",
    "for value in rainfall.values():\n",
    "    totalRainfall += value\n",
    "\n",
    "print(f\"There was {totalRainfall}cm in the last quarter\")\n",
    "\n"
   ]
  },
  {
   "cell_type": "code",
   "execution_count": null,
   "metadata": {},
   "outputs": [],
   "source": []
  }
 ],
 "metadata": {
  "interpreter": {
   "hash": "3c4b90434ee65553cfaadd5152885f5f9133f1a3ef69fb3c2a408236db5fe03f"
  },
  "kernelspec": {
   "display_name": "Python 3.9.10 ('env': venv)",
   "language": "python",
   "name": "python3"
  },
  "language_info": {
   "codemirror_mode": {
    "name": "ipython",
    "version": 3
   },
   "file_extension": ".py",
   "mimetype": "text/x-python",
   "name": "python",
   "nbconvert_exporter": "python",
   "pygments_lexer": "ipython3",
   "version": "3.9.10"
  },
  "orig_nbformat": 4
 },
 "nbformat": 4,
 "nbformat_minor": 2
}
