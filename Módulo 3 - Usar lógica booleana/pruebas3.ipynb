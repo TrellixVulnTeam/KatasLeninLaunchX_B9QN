{
 "cells": [
  {
   "cell_type": "code",
   "execution_count": 3,
   "metadata": {},
   "outputs": [
    {
     "name": "stdout",
     "output_type": "stream",
     "text": [
      "55\n"
     ]
    }
   ],
   "source": [
    "a = 97\n",
    "b = 55\n",
    "\n",
    "if a > b:\n",
    "    print(b)"
   ]
  },
  {
   "cell_type": "code",
   "execution_count": 14,
   "metadata": {},
   "outputs": [
    {
     "name": "stdout",
     "output_type": "stream",
     "text": [
      "a es igual que b\n"
     ]
    }
   ],
   "source": [
    "a = 93\n",
    "b = 27\n",
    "if a > b:\n",
    "    print('a es mayor que b')\n",
    "elif a < b:\n",
    "    print('a es menor que b')\n",
    "else:\n",
    "    print('a es igual que b')\n",
    "    "
   ]
  },
  {
   "cell_type": "code",
   "execution_count": 6,
   "metadata": {},
   "outputs": [
    {
     "name": "stdout",
     "output_type": "stream",
     "text": [
      "24\n",
      "44\n"
     ]
    }
   ],
   "source": [
    "a = 24\n",
    "b = 44\n",
    "if a <= 0:\n",
    "    print(a)\n",
    "print(b)"
   ]
  },
  {
   "cell_type": "code",
   "execution_count": 15,
   "metadata": {},
   "outputs": [
    {
     "name": "stdout",
     "output_type": "stream",
     "text": [
      "a es menor que b\n"
     ]
    }
   ],
   "source": [
    "a = 16\n",
    "b = 25\n",
    "c = 27\n",
    "if a > b:\n",
    "    if b > c:\n",
    "        print(\"a es mayor que b y b es mayor que c\")\n",
    "    else:\n",
    "        print(\"a es mayor que b y menor que c\")\n",
    "elif a == b:\n",
    "    print(\" a es igual que b\")\n",
    "else:\n",
    "    print(\"a es menor que b\")"
   ]
  },
  {
   "cell_type": "code",
   "execution_count": 19,
   "metadata": {},
   "outputs": [],
   "source": [
    "a = 23\n",
    "b = 34\n",
    "#True\n",
    "# if a == 34 or b == 34:\n",
    "#     print(a+b)\n",
    "\n",
    "#False\n",
    "if a == 34 and b == 34:\n",
    "    print(a+b)\n"
   ]
  },
  {
   "cell_type": "code",
   "execution_count": null,
   "metadata": {},
   "outputs": [],
   "source": []
  }
 ],
 "metadata": {
  "interpreter": {
   "hash": "3c4b90434ee65553cfaadd5152885f5f9133f1a3ef69fb3c2a408236db5fe03f"
  },
  "kernelspec": {
   "display_name": "Python 3.9.10 ('env': venv)",
   "language": "python",
   "name": "python3"
  },
  "language_info": {
   "codemirror_mode": {
    "name": "ipython",
    "version": 3
   },
   "file_extension": ".py",
   "mimetype": "text/x-python",
   "name": "python",
   "nbconvert_exporter": "python",
   "pygments_lexer": "ipython3",
   "version": "3.9.10"
  },
  "orig_nbformat": 4
 },
 "nbformat": 4,
 "nbformat_minor": 2
}
